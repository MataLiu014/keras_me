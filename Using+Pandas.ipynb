{
 "cells": [
  {
   "cell_type": "markdown",
   "metadata": {},
   "source": [
    "在python内进行数据处理的库名叫pandas\n",
    "pandas是我最好的伙伴之一\n",
    "pandas的一些基础使用如下："
   ]
  },
  {
   "cell_type": "code",
   "execution_count": 1,
   "metadata": {
    "collapsed": true
   },
   "outputs": [],
   "source": [
    "###导入一个csv数据集\n",
    "import pandas as pd\n",
    "import numpy as np   ##我一般也会把numpy送进来，这样数据的整合会容易很多\n",
    "waterdata=pd.read_csv(\"venezia.csv\")"
   ]
  },
  {
   "cell_type": "code",
   "execution_count": 2,
   "metadata": {},
   "outputs": [
    {
     "name": "stdout",
     "output_type": "stream",
     "text": [
      "              datetime  level\n",
      "0  1983-01-01 01:00:00   44.0\n",
      "1  1983-01-01 02:00:00   35.0\n",
      "2  1983-01-01 03:00:00   23.0\n",
      "3  1983-01-01 04:00:00   10.0\n",
      "4  1983-01-01 05:00:00    1.0\n",
      "5  1983-01-01 06:00:00   -1.0\n",
      "6  1983-01-01 07:00:00    6.0\n",
      "7  1983-01-01 08:00:00   17.0\n",
      "8  1983-01-01 09:00:00   31.0\n",
      "9  1983-01-01 10:00:00   41.0\n"
     ]
    }
   ],
   "source": [
    "##查看数据集的内容\n",
    "print(waterdata.head(10)) ##查看头10个数据"
   ]
  },
  {
   "cell_type": "code",
   "execution_count": 3,
   "metadata": {
    "collapsed": true
   },
   "outputs": [],
   "source": [
    "##提取其中一行的内容：\n",
    "waterlist=list(waterdata[\"level\"])   ##提取level行的内容\n",
    "waterlist=np.array(waterlist)  ##可选，整合成numpy.array可以方便提取mean，var等\n",
    "\n",
    "##你可以把这个当成一个时间序列，\n",
    "#或者在其它东西的基础上面搞成时间序列（具体怎么做我也不太清楚）"
   ]
  },
  {
   "cell_type": "code",
   "execution_count": 4,
   "metadata": {
    "collapsed": true
   },
   "outputs": [],
   "source": [
    "##统计量：\n",
    "mean=waterlist.mean()\n",
    "var=waterlist.var()"
   ]
  },
  {
   "cell_type": "code",
   "execution_count": 5,
   "metadata": {
    "collapsed": true
   },
   "outputs": [],
   "source": [
    "##建立新的.csv文件：\n",
    "#先用{}建立一个新的字典\n",
    "mydict={\"waterlevel\":waterlist}    #格式为{ 列名:列的数据list,列名:列的数据list, ...  }\n",
    "mydata=pd.DataFrame(mydict)   #转换为pandas的dataframe\n",
    "mydata.to_csv(\"example.csv\")  #用to_csv保存"
   ]
  },
  {
   "cell_type": "code",
   "execution_count": 6,
   "metadata": {
    "collapsed": true
   },
   "outputs": [],
   "source": [
    "###filter\n",
    "#一个例子：选择水位大于0的全部数据\n",
    "newdata=waterdata[waterdata[\"level\"]>0]\n",
    "\n",
    "#可以用&,| (&为and, |为or，不要用&& 和 ||)\n",
    "#例子：选择水位大于0小于10的全部数据\n",
    "newdata=waterdata[(waterdata[\"level\"]>0) & (waterdata[\"level\"]<10)]\n",
    "#注意这个两个逻辑分别最好要括起来，不然可能会阵亡"
   ]
  },
  {
   "cell_type": "markdown",
   "metadata": {},
   "source": [
    "appendix：\n",
    "这些是pandas里面最简单的东西了\n",
    "更多的预处理教程可见：https://www.tutorialspoint.com/python_pandas/python_pandas_groupby.htm 或者自己查找\n",
    "\n",
    "（待补充）"
   ]
  }
 ],
 "metadata": {
  "kernelspec": {
   "display_name": "Python 3",
   "language": "python",
   "name": "python3"
  },
  "language_info": {
   "codemirror_mode": {
    "name": "ipython",
    "version": 3
   },
   "file_extension": ".py",
   "mimetype": "text/x-python",
   "name": "python",
   "nbconvert_exporter": "python",
   "pygments_lexer": "ipython3",
   "version": "3.6.1"
  }
 },
 "nbformat": 4,
 "nbformat_minor": 2
}
