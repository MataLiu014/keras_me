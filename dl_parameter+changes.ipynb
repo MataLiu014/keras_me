{
 "cells": [
  {
   "cell_type": "markdown",
   "metadata": {},
   "source": [
    "神经网络的调参：最最最最简单的说明\n",
    "（求各位小伙伴有时间顺手一起调参...一个人搞这个太没效率了）"
   ]
  },
  {
   "cell_type": "code",
   "execution_count": null,
   "metadata": {
    "collapsed": true
   },
   "outputs": [],
   "source": [
    "##下面是我的比较完整的一个神经网络处理模型：\n",
    "from __future__ import print_function\n",
    "\n",
    "import keras\n",
    "from keras.datasets import mnist\n",
    "from keras.models import Model\n",
    "from keras.layers import Input, Dense, TimeDistributed\n",
    "from keras.layers import LSTM\n",
    "import pandas as pd\n",
    "import numpy as np\n",
    "import matplotlib.pyplot as plt"
   ]
  },
  {
   "cell_type": "code",
   "execution_count": null,
   "metadata": {
    "collapsed": true
   },
   "outputs": [],
   "source": [
    "LAData=pd.read_csv(\"LA_temperature_normal.csv\")"
   ]
  },
  {
   "cell_type": "code",
   "execution_count": null,
   "metadata": {
    "collapsed": true
   },
   "outputs": [],
   "source": [
    "def FormXTrainH(i):\n",
    "    return [LATlist[i+j*3] for j in range(-29,-1)]      ##可调(1)\n",
    "\n",
    "def FormYTrainH(i):\n",
    "    return LATlist[i]\n",
    "\n",
    "x_trainH=[]\n",
    "x_testH=[]\n",
    "y_testH=[]\n",
    "y_trainH=[]\n",
    "\n",
    "for i in range(29*3,32200+29*3):                    ##可调(1)\n",
    "    #x_trainG.append( FormXTrainG(i)   )\n",
    "    y_trainH.append( FormYTrainH(i)   )\n",
    "    x_trainH.append(FormXTrainH(i))\n",
    "for i in range(32200+29*3, len(LATlist)):           ##可调(1)\n",
    "    #x_testG.append( FormXTrainG(i) )\n",
    "    y_testH.append( FormYTrainH(i) )\n",
    "    x_testH.append(FormXTrainH(i))\n",
    "    \n",
    "x_trainH=np.array(x_trainH)\n",
    "x_testH=np.array(x_testH)\n",
    "y_trainH=np.array(y_trainH)\n",
    "y_testH=np.array(y_testH)"
   ]
  },
  {
   "cell_type": "code",
   "execution_count": null,
   "metadata": {
    "collapsed": true
   },
   "outputs": [],
   "source": [
    "epoch=50                        ##可调(4)\n",
    "\n",
    "row_hidden=48                     ##可调(3)\n",
    "col_hidden=48                     ##可调(3)"
   ]
  },
  {
   "cell_type": "code",
   "execution_count": null,
   "metadata": {
    "collapsed": true
   },
   "outputs": [],
   "source": [
    "x_trainH=x_trainH.reshape(x_trainH.shape[0],28,1)             ##可调(2)\n",
    "x_testH=x_testH.reshape(x_testH.shape[0],28,1)"
   ]
  },
  {
   "cell_type": "code",
   "execution_count": null,
   "metadata": {
    "collapsed": true
   },
   "outputs": [],
   "source": [
    "row,col=x_trainH.shape[1:]               ##可调(2)\n"
   ]
  },
  {
   "cell_type": "code",
   "execution_count": null,
   "metadata": {
    "collapsed": true
   },
   "outputs": [],
   "source": [
    "x=Input(shape=(row,col))\n",
    "\n",
    "#encoded rows\n",
    "#encoded_rows = TimeDistributed(LSTM(row_hidden))(x)\n",
    "\n",
    "#encoded cols\n",
    "#encoded_cols= LSTM(col_hidden)(encoded_rows)\n",
    "encoded_cols= LSTM(col_hidden)(x)\n",
    "\n",
    "#最后的全连接\n",
    "fin= Dense(10, activation='tanh')(encoded_cols)            ##可调(3)\n",
    "#prediction= Dense(1, activation='tanh')(encoded_cols)\n",
    "\n",
    "#\n",
    "prediction=Dense(1,)(fin)                  \n",
    "\n",
    "#summarizing and setting model\n",
    "model = Model(x, prediction)\n",
    "#这个model弄的很有趣，直接包含中间了的么 \n",
    "model.compile(loss='MSE',                            ##可调(4)\n",
    "              optimizer='adamax')                    ##可调(4)\n",
    "\n",
    "model.summary()"
   ]
  },
  {
   "cell_type": "code",
   "execution_count": null,
   "metadata": {
    "collapsed": true
   },
   "outputs": [],
   "source": [
    "model.fit(x_trainH, y_trainH,\n",
    "          batch_size=32,                           ##可调(4)\n",
    "          epochs=epoch,\n",
    "          verbose=1,\n",
    "          validation_data=(x_testH, y_testH))"
   ]
  },
  {
   "cell_type": "markdown",
   "metadata": {},
   "source": [
    "可以调整什么参数：\n",
    "1. 输入数据的内容和构造\n",
    "2. 输入数据的格式（比如说28*1也可以改成4*7）   关于这个格式的理解：keras文档里面的LSTM和Timedistributed层\n",
    "3. 网络参数： LSTM的隐层(row_hidden,col_hidden), Dense的神经元数量和激活函数\n",
    "4. 训练层次： loss函数，optimizer，epoch（网络下降的速度不一样，LSTM和全连接会有很大的差别，需要合适的epoch)，batch_size（也可以用不填的方式让网络自动选择epoches)"
   ]
  },
  {
   "cell_type": "code",
   "execution_count": null,
   "metadata": {
    "collapsed": true
   },
   "outputs": [],
   "source": [
    "上一段的LSTM：\n",
    "LSTM是一种长短期记忆stateful RNN模型，比课上用到的Dense模型要复杂\n",
    "LSTM非常适合时间序列的特征学习，however在Q1中没拿出突破性的表现（虽然也很不错）"
   ]
  },
  {
   "cell_type": "markdown",
   "metadata": {},
   "source": [
    "评估结果：\n",
    "（1）training_loss 和 verification_loss 一起下降：\n",
    "Epoch 1/50\n",
    "32200/32200 [==============================] - 17s 513us/step - loss: 0.1992 - val_loss: 0.1076\n",
    "Epoch 2/50\n",
    "32200/32200 [==============================] - 14s 450us/step - loss: 0.1015 - val_loss: 0.0971\n",
    "Epoch 3/50\n",
    "32200/32200 [==============================] - 18s 570us/step - loss: 0.0951 - val_loss: 0.0911\n",
    "Epoch 4/50\n",
    "32200/32200 [==============================] - 19s 588us/step - loss: 0.0922 - val_loss: 0.0886\n",
    "Epoch 5/50\n",
    "32200/32200 [==============================] - 20s 632us/step - loss: 0.0898 - val_loss: 0.0844\n",
    "这说明网络的表现在逐渐变好，这非常好\n",
    "\n",
    "(2)training_loss 下降， verification_loss 稳定:\n",
    "200/32200 [==============================] - 21s 666us/step - loss: 0.0748 - val_loss: 0.0773\n",
    "Epoch 24/50\n",
    "32200/32200 [==============================] - 21s 664us/step - loss: 0.0737 - val_loss: 0.0771\n",
    "Epoch 25/50\n",
    "32200/32200 [==============================] - 21s 664us/step - loss: 0.0728 - val_loss: 0.0774\n",
    "Epoch 26/50\n",
    "32200/32200 [==============================] - 23s 726us/step - loss: 0.0724 - val_loss: 0.0803\n",
    "Epoch 27/50\n",
    "32200/32200 [==============================] - 25s 774us/step - loss: 0.0718 - val_loss: 0.0802\n",
    "Epoch 28/50\n",
    "32200/32200 [==============================] - 24s 748us/step - loss: 0.0714 - val_loss: 0.0780\n",
    "Epoch 29/50\n",
    "32200/32200 [==============================] - 17s 516us/step - loss: 0.0708 - val_loss: 0.0834\n",
    "网络并没有变好，并有过度拟合的倾向，但我觉得也不是没意义的\n",
    "\n",
    "(3)training_loss 下降， verification_loss 上升:\n",
    "32200/32200 [==============================] - 6s 193us/step - loss: 0.0376 - val_loss: 0.0919\n",
    "Epoch 34/50\n",
    "32200/32200 [==============================] - 6s 196us/step - loss: 0.0371 - val_loss: 0.0935\n",
    "Epoch 35/50\n",
    "32200/32200 [==============================] - 6s 197us/step - loss: 0.0365 - val_loss: 0.0960\n",
    "Epoch 36/50\n",
    "32200/32200 [==============================] - 6s 194us/step - loss: 0.0359 - val_loss: 0.0971\n",
    "Epoch 37/50\n",
    "32200/32200 [==============================] - 6s 195us/step - loss: 0.0355 - val_loss: 0.0955\n",
    "Epoch 38/50\n",
    "32200/32200 [==============================] - 6s 197us/step - loss: 0.0349 - val_loss: 0.0998\n",
    "Epoch 39/50\n",
    "32200/32200 [==============================] - 6s 196us/step - loss: 0.0341 - val_loss: 0.0996\n",
    "Epoch 40/50\n",
    "32200/32200 [==============================] - 6s 193us/step - loss: 0.0340 - val_loss: 0.1005\n",
    "Epoch 41/50\n",
    "32200/32200 [==============================] - 7s 207us/step - loss: 0.0336 - val_loss: 0.0986\n",
    "Epoch 42/50\n",
    "32200/32200 [==============================] - 8s 236us/step - loss: 0.0331 - val_loss: 0.1004\n",
    "Epoch 43/50\n",
    "32200/32200 [==============================] - 7s 231us/step - loss: 0.0325 - val_loss: 0.1011\n",
    "过度拟合了，不是啥好现象...."
   ]
  }
 ],
 "metadata": {
  "kernelspec": {
   "display_name": "Python 3",
   "language": "python",
   "name": "python3"
  },
  "language_info": {
   "codemirror_mode": {
    "name": "ipython",
    "version": 3
   },
   "file_extension": ".py",
   "mimetype": "text/x-python",
   "name": "python",
   "nbconvert_exporter": "python",
   "pygments_lexer": "ipython3",
   "version": "3.6.1"
  }
 },
 "nbformat": 4,
 "nbformat_minor": 2
}
