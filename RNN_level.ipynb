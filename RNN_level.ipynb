{
 "cells": [
  {
   "cell_type": "code",
   "execution_count": 1,
   "metadata": {},
   "outputs": [
    {
     "name": "stderr",
     "output_type": "stream",
     "text": [
      "Using TensorFlow backend.\n"
     ]
    }
   ],
   "source": [
    "from __future__ import print_function\n",
    "\n",
    "import keras\n",
    "from keras.datasets import mnist\n",
    "from keras.models import Model\n",
    "from keras.layers import Input, Dense, TimeDistributed\n",
    "from keras.layers import LSTM\n",
    "\n",
    "import pandas as pd\n",
    "import numpy as np\n",
    "import matplotlib.pyplot as plt"
   ]
  },
  {
   "cell_type": "code",
   "execution_count": 3,
   "metadata": {
    "collapsed": true
   },
   "outputs": [],
   "source": [
    "ver=pd.read_csv(\"venezia_extended.csv\")"
   ]
  },
  {
   "cell_type": "code",
   "execution_count": 4,
   "metadata": {
    "scrolled": true
   },
   "outputs": [
    {
     "name": "stdout",
     "output_type": "stream",
     "text": [
      "   Unnamed: 0             datetime     datetimetuple  hour_inday  level  \\\n",
      "0           0  1983-01-01 01:00:00   (1983, 1, 1, 1)           1   44.0   \n",
      "1           1  1983-01-01 02:00:00   (1983, 1, 1, 2)           2   35.0   \n",
      "2           2  1983-01-01 03:00:00   (1983, 1, 1, 3)           3   23.0   \n",
      "3           3  1983-01-01 04:00:00   (1983, 1, 1, 4)           4   10.0   \n",
      "4           4  1983-01-01 05:00:00   (1983, 1, 1, 5)           5    1.0   \n",
      "5           5  1983-01-01 06:00:00   (1983, 1, 1, 6)           6   -1.0   \n",
      "6           6  1983-01-01 07:00:00   (1983, 1, 1, 7)           7    6.0   \n",
      "7           7  1983-01-01 08:00:00   (1983, 1, 1, 8)           8   17.0   \n",
      "8           8  1983-01-01 09:00:00   (1983, 1, 1, 9)           9   31.0   \n",
      "9           9  1983-01-01 10:00:00  (1983, 1, 1, 10)          10   41.0   \n",
      "\n",
      "   level_normalized  lunar_daynum  lunarday   lunardaytuple  lunarmonth  \\\n",
      "0          0.621919             1        18  (1982, 11, 18)          11   \n",
      "1          0.312960             1        18  (1982, 11, 18)          11   \n",
      "2         -0.098985             1        18  (1982, 11, 18)          11   \n",
      "3         -0.545259             1        18  (1982, 11, 18)          11   \n",
      "4         -0.854218             1        18  (1982, 11, 18)          11   \n",
      "5         -0.922876             1        18  (1982, 11, 18)          11   \n",
      "6         -0.682574             1        18  (1982, 11, 18)          11   \n",
      "7         -0.304958             1        18  (1982, 11, 18)          11   \n",
      "8          0.175645             1        18  (1982, 11, 18)          11   \n",
      "9          0.518933             1        18  (1982, 11, 18)          11   \n",
      "\n",
      "   lunaryear  solarday  solarmonth  solaryear  yearly_daynum  \n",
      "0       1982         1           1       1983              1  \n",
      "1       1982         1           1       1983              1  \n",
      "2       1982         1           1       1983              1  \n",
      "3       1982         1           1       1983              1  \n",
      "4       1982         1           1       1983              1  \n",
      "5       1982         1           1       1983              1  \n",
      "6       1982         1           1       1983              1  \n",
      "7       1982         1           1       1983              1  \n",
      "8       1982         1           1       1983              1  \n",
      "9       1982         1           1       1983              1  \n"
     ]
    }
   ],
   "source": [
    "print(ver.head(10))"
   ]
  },
  {
   "cell_type": "code",
   "execution_count": null,
   "metadata": {
    "collapsed": true
   },
   "outputs": [],
   "source": [
    "#yearperi_train=yearperi[189272:259272]\n",
    "#yearperi_test=yearperi[259272:]"
   ]
  },
  {
   "cell_type": "code",
   "execution_count": 9,
   "metadata": {
    "collapsed": true
   },
   "outputs": [],
   "source": [
    "lunaryearlist=list(ver[\"lunaryear\"])\n",
    "lunarmonthlist=list(ver[\"lunarmonth\"])\n",
    "lunardaylist=list(ver[\"lunarday\"])\n",
    "hrlist=list(ver[\"hour_inday\"])\n",
    "waterlist=list(ver[\"level_normalized\"])"
   ]
  },
  {
   "cell_type": "code",
   "execution_count": 43,
   "metadata": {},
   "outputs": [
    {
     "name": "stdout",
     "output_type": "stream",
     "text": [
      "289272\n",
      "289272\n"
     ]
    }
   ],
   "source": [
    "print(len(waterlist))\n",
    "print(len(lunardaylist))"
   ]
  },
  {
   "cell_type": "code",
   "execution_count": 44,
   "metadata": {},
   "outputs": [
    {
     "name": "stdout",
     "output_type": "stream",
     "text": [
      "-0.2019715810710306\n"
     ]
    }
   ],
   "source": [
    "print(waterlist[289271])"
   ]
  },
  {
   "cell_type": "code",
   "execution_count": 46,
   "metadata": {},
   "outputs": [],
   "source": [
    "\n"
   ]
  },
  {
   "cell_type": "code",
   "execution_count": 70,
   "metadata": {},
   "outputs": [],
   "source": [
    "rectrain=[]\n",
    "\n",
    "leveltrain=[]\n",
    "for i in range(189272,259272):\n",
    "    slice_=ver[(ver[\"lunaryear\"]==lunaryearlist[i]-3) & (ver[\"lunarmonth\"]==lunarmonthlist[i])&(ver[\"lunarday\"]==lunardaylist[i])&(ver[\"hour_inday\"]==hrlist[i]) ]\n",
    "    if(slice_.shape[0]!=0):\n",
    "        startpoint=slice_.iloc[0][0]\n",
    "        ts=[]\n",
    "        for j in range(-24*3+1,1):\n",
    "            ts.append(waterlist[startpoint+(15*24*j)])\n",
    "        rectrain.append(ts)\n",
    "        leveltrain.append(waterlist[i])"
   ]
  },
  {
   "cell_type": "code",
   "execution_count": 71,
   "metadata": {},
   "outputs": [],
   "source": [
    "rectest=[]\n",
    "leveltest=[]\n",
    "for i in range(259272,len(waterlist)):\n",
    "    slice_=ver[(ver[\"lunaryear\"]==lunaryearlist[i]-3) & (ver[\"lunarmonth\"]==lunarmonthlist[i])&(ver[\"lunarday\"]==lunardaylist[i])&(ver[\"hour_inday\"]==hrlist[i]) ]\n",
    "    if(slice_.shape[0]!=0):\n",
    "        startpoint=int(slice_.iloc[0][0])\n",
    "        ts=[]\n",
    "        for j in range(-71,1):\n",
    "            ts.append(waterlist[startpoint+360*j])\n",
    "            #if(i==len(waterlist)-1):\n",
    "                #print(startpoint+360*j)\n",
    "                #print(waterlist[startpoint-360*j])\n",
    "            #print(j)\n",
    "        #if(i==len(waterlist)-1):\n",
    "         #   print(slice_)\n",
    "          #  print(startpoint)\n",
    "           # print(waterlist[startpoint-360])\n",
    "        rectest.append(ts)\n",
    "        leveltest.append(waterlist[i])"
   ]
  },
  {
   "cell_type": "code",
   "execution_count": 72,
   "metadata": {
    "scrolled": true
   },
   "outputs": [
    {
     "name": "stdout",
     "output_type": "stream",
     "text": [
      "29830\n"
     ]
    }
   ],
   "source": [
    "#print(len(rectrain))\n",
    "print(len(rectest))"
   ]
  },
  {
   "cell_type": "code",
   "execution_count": 73,
   "metadata": {
    "scrolled": true
   },
   "outputs": [
    {
     "name": "stdout",
     "output_type": "stream",
     "text": [
      "0.07265860688562839\n"
     ]
    }
   ],
   "source": [
    "print(waterlist[262679])"
   ]
  },
  {
   "cell_type": "code",
   "execution_count": 74,
   "metadata": {
    "collapsed": true
   },
   "outputs": [],
   "source": [
    "rectrain=np.array(rectrain)\n",
    "rectest=np.array(rectest)\n",
    "leveltrain=np.array(leveltrain)\n",
    "leveltest=np.array(leveltest)"
   ]
  },
  {
   "cell_type": "code",
   "execution_count": 75,
   "metadata": {},
   "outputs": [],
   "source": [
    "\n"
   ]
  },
  {
   "cell_type": "code",
   "execution_count": 76,
   "metadata": {
    "scrolled": false
   },
   "outputs": [
    {
     "name": "stdout",
     "output_type": "stream",
     "text": [
      "[[ 1.34282323  2.0293987   1.78909728]\n",
      " [ 0.96520672  1.03386426  1.377152  ]\n",
      " [ 1.06819304  1.48013832  0.99953549]\n",
      " [ 0.58759021  0.31296002  0.07265861]\n",
      " [-0.16764281 -0.40794422 -0.37361545]\n",
      " [-0.13331403 -0.06465649  0.14131615]\n",
      " [-0.27062913  0.27863125 -0.3049579 ]\n",
      " [ 0.17564493  0.10698738  0.45027512]\n",
      " [ 0.62191898  0.03832983  0.55326144]\n",
      " [-0.06465649 -0.16764281 -0.09898526]\n",
      " [ 0.31296002 -0.442273    0.17564493]\n",
      " [-0.33928668 -0.64824564  0.03832983]\n",
      " [ 0.03832983 -0.16764281  0.45027512]\n",
      " [ 0.55326144  0.45027512  0.14131615]\n",
      " [ 1.75476851  1.03386426  0.89654917]\n",
      " [ 1.48013832  1.34282323  0.99953549]\n",
      " [ 1.03386426  1.72043973  0.58759021]\n",
      " [ 0.45027512  0.55326144  1.96074115]\n",
      " [ 1.61745341  1.44580955  1.23983691]\n",
      " [ 1.34282323  1.51446709  1.44580955]\n",
      " [ 1.72043973  1.27416568  0.89654917]\n",
      " [ 0.65624776  1.06819304  0.8622204 ]\n",
      " [ 0.17564493  2.09805624  0.24430247]\n",
      " [ 0.48460389  0.07265861  0.45027512]]\n",
      "-0.2019715810710306\n"
     ]
    }
   ],
   "source": [
    "print(rectest[29829])\n",
    "print(leveltest[29829])"
   ]
  },
  {
   "cell_type": "code",
   "execution_count": null,
   "metadata": {},
   "outputs": [
    {
     "name": "stdout",
     "output_type": "stream",
     "text": [
      "_________________________________________________________________\n",
      "Layer (type)                 Output Shape              Param #   \n",
      "=================================================================\n",
      "input_10 (InputLayer)        (None, 72, 1)             0         \n",
      "_________________________________________________________________\n",
      "lstm_10 (LSTM)               (None, 64)                16896     \n",
      "_________________________________________________________________\n",
      "dense_19 (Dense)             (None, 10)                650       \n",
      "_________________________________________________________________\n",
      "dense_20 (Dense)             (None, 1)                 11        \n",
      "=================================================================\n",
      "Total params: 17,557\n",
      "Trainable params: 17,557\n",
      "Non-trainable params: 0\n",
      "_________________________________________________________________\n",
      "Train on 69566 samples, validate on 29830 samples\n",
      "Epoch 1/25\n",
      "69566/69566 [==============================] - 81s 1ms/step - loss: 0.3742 - val_loss: 0.3577\n",
      "Epoch 2/25\n",
      "69566/69566 [==============================] - 80s 1ms/step - loss: 0.3255 - val_loss: 0.3210\n",
      "Epoch 3/25\n",
      "69566/69566 [==============================] - 81s 1ms/step - loss: 0.3147 - val_loss: 0.3468\n",
      "Epoch 4/25\n",
      "69566/69566 [==============================] - 80s 1ms/step - loss: 0.3080 - val_loss: 0.3417\n",
      "Epoch 5/25\n",
      "69566/69566 [==============================] - 81s 1ms/step - loss: 0.3041 - val_loss: 0.3463\n",
      "Epoch 6/25\n",
      "69566/69566 [==============================] - 79s 1ms/step - loss: 0.3010 - val_loss: 0.3336\n",
      "Epoch 7/25\n",
      "69566/69566 [==============================] - 82s 1ms/step - loss: 0.2974 - val_loss: 0.3399\n",
      "Epoch 8/25\n",
      " 9824/69566 [===>..........................] - ETA: 1:05 - loss: 0.2888"
     ]
    }
   ],
   "source": [
    "rectrain=rectrain.reshape(rectrain.shape[0],72,1)\n",
    "rectest=rectest.reshape(rectest.shape[0],72,1)\n",
    "row,col=rectrain.shape[1:]\n",
    "\n",
    "epoch=25\n",
    "\n",
    "row_hidden=64\n",
    "col_hidden=64\n",
    "\n",
    "x=Input(shape=(row,col))\n",
    "\n",
    "#encoded rows\n",
    "#encoded_rows = TimeDistributed(LSTM(row_hidden))(x)\n",
    "\n",
    "#encoded cols\n",
    "#encoded_cols= LSTM(col_hidden)(encoded_rows)\n",
    "encoded_cols= LSTM(col_hidden)(x)\n",
    "\n",
    "#最后的全连接\n",
    "fin= Dense(10, activation='tanh')(encoded_cols)\n",
    "#prediction= Dense(1, activation='tanh')(encoded_cols)\n",
    "\n",
    "#\n",
    "prediction=Dense(1,)(fin)\n",
    "\n",
    "#summarizing and setting model\n",
    "model = Model(x, prediction)\n",
    "#这个model弄的很有趣，直接包含中间了的么\n",
    "model.compile(loss='MSE',\n",
    "              optimizer='adamax')\n",
    "\n",
    "model.summary()\n",
    "\n",
    "FHistory=model.fit(rectrain, leveltrain,\n",
    "          #batch_size=32,\n",
    "          epochs=25,\n",
    "          verbose=1,\n",
    "          validation_data=(rectest, leveltest))"
   ]
  }
 ],
 "metadata": {
  "kernelspec": {
   "display_name": "Python 3",
   "language": "python",
   "name": "python3"
  },
  "language_info": {
   "codemirror_mode": {
    "name": "ipython",
    "version": 3
   },
   "file_extension": ".py",
   "mimetype": "text/x-python",
   "name": "python",
   "nbconvert_exporter": "python",
   "pygments_lexer": "ipython3",
   "version": "3.6.1"
  }
 },
 "nbformat": 4,
 "nbformat_minor": 2
}
